{
 "cells": [
  {
   "cell_type": "code",
   "execution_count": 6,
   "id": "3bcfdc8c",
   "metadata": {},
   "outputs": [],
   "source": [
    "import numpy as np"
   ]
  },
  {
   "cell_type": "code",
   "execution_count": 7,
   "id": "52cea3d6",
   "metadata": {},
   "outputs": [],
   "source": [
    "def compute_a(L, wavelength, y):\n",
    "    m = 1\n",
    "    return (m * wavelength*L)/y"
   ]
  },
  {
   "cell_type": "code",
   "execution_count": 8,
   "id": "b60840f0",
   "metadata": {},
   "outputs": [],
   "source": [
    "def compute_uncertainty(L, y, wavelength, delta_L, delta_y, delta_wavelength):\n",
    "    t1 = ((L*delta_wavelength)/(y))**2\n",
    "    t2 = ((wavelength*delta_L)/(y))**2\n",
    "    t3 = ((-wavelength*L*delta_y)/(y**2))**2\n",
    "    return np.sqrt(t1+t2+t3)"
   ]
  },
  {
   "cell_type": "code",
   "execution_count": 9,
   "id": "9cb3f2ad",
   "metadata": {},
   "outputs": [],
   "source": [
    "L = 1.0512\n",
    "hair_y = 0.00270\n",
    "wavelength = 650e-9\n",
    "delta_L = 0.0002\n",
    "delta_y = 0.00002\n",
    "delta_wavelength = 5e-9"
   ]
  },
  {
   "cell_type": "code",
   "execution_count": 11,
   "id": "3cdfc66b",
   "metadata": {},
   "outputs": [
    {
     "name": "stdout",
     "output_type": "stream",
     "text": [
      "0.0002530666666666666 m 0.00021439150988792886 m\n",
      "0.2530666666666666 mm 0.21439150988792888 mm\n"
     ]
    }
   ],
   "source": [
    "#slit distance\n",
    "hair_width = compute_a(L, wavelength, hair_y)\n",
    "hair_width_uncertainty = compute_uncertainty(L, hair_width, wavelength, delta_L, delta_y, delta_wavelength)\n",
    "print(hair_width, \"m\", hair_width_uncertainty, \"m\")\n",
    "print(hair_width*1000, \"mm\", hair_width_uncertainty*1000, \"mm\")"
   ]
  },
  {
   "cell_type": "code",
   "execution_count": 13,
   "id": "42881a7c",
   "metadata": {},
   "outputs": [
    {
     "name": "stdout",
     "output_type": "stream",
     "text": [
      "0.00015437066666666664 m 0.000574465234975069 m\n",
      "0.15437066666666663 mm 0.5744652349750691 mm\n"
     ]
    }
   ],
   "source": [
    "circle_y = 0.00540\n",
    "circle_width = compute_a(1.22*L, wavelength, circle_y)\n",
    "circle_width_uncertainty = compute_uncertainty(L, circle_width, wavelength, delta_L, delta_y, delta_wavelength)\n",
    "print(circle_width, \"m\", circle_width_uncertainty, \"m\")\n",
    "print(circle_width*1000, \"mm\", circle_width_uncertainty*1000, \"mm\")"
   ]
  },
  {
   "cell_type": "code",
   "execution_count": null,
   "id": "79526b22",
   "metadata": {},
   "outputs": [],
   "source": []
  }
 ],
 "metadata": {
  "kernelspec": {
   "display_name": "Python 3 (ipykernel)",
   "language": "python",
   "name": "python3"
  },
  "language_info": {
   "codemirror_mode": {
    "name": "ipython",
    "version": 3
   },
   "file_extension": ".py",
   "mimetype": "text/x-python",
   "name": "python",
   "nbconvert_exporter": "python",
   "pygments_lexer": "ipython3",
   "version": "3.11.4"
  }
 },
 "nbformat": 4,
 "nbformat_minor": 5
}
