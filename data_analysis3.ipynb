{
 "cells": [
  {
   "cell_type": "code",
   "execution_count": 1,
   "id": "2e4da68f",
   "metadata": {},
   "outputs": [],
   "source": [
    "import numpy as np"
   ]
  },
  {
   "cell_type": "code",
   "execution_count": 2,
   "id": "04a0ce7d",
   "metadata": {},
   "outputs": [],
   "source": [
    "def compute_a(L, wavelength, y):\n",
    "    m = 1\n",
    "    return (m * wavelength*L)/y"
   ]
  },
  {
   "cell_type": "code",
   "execution_count": 3,
   "id": "165f969a",
   "metadata": {},
   "outputs": [],
   "source": [
    "def compute_uncertainty(L, y, wavelength, delta_L, delta_y, delta_wavelength):\n",
    "    t1 = ((L*delta_wavelength)/(y))**2\n",
    "    t2 = ((wavelength*delta_L)/(y))**2\n",
    "    t3 = ((-wavelength*L*delta_y)/(y**2))**2\n",
    "    return np.sqrt(t1+t2+t3)"
   ]
  },
  {
   "cell_type": "code",
   "execution_count": 8,
   "id": "c0d41a71",
   "metadata": {},
   "outputs": [],
   "source": [
    "#peak to peak distance (laser) in meters\n",
    "peak2peak_bulb = 0.000607"
   ]
  },
  {
   "cell_type": "code",
   "execution_count": 9,
   "id": "cf5b8858",
   "metadata": {},
   "outputs": [],
   "source": [
    "#peak to valley distance (laser) single slits in meters\n",
    "peak2valley_bulb_right = 0.00452\n",
    "peak2valley_bulb_left = 0.00810"
   ]
  },
  {
   "cell_type": "code",
   "execution_count": 10,
   "id": "6731dec4",
   "metadata": {},
   "outputs": [],
   "source": [
    "L = .501\n",
    "wavelength = 546e-9\n",
    "delta_L = 0.002\n",
    "delta_y = 0.00002\n",
    "delta_wavelength = 5e-9"
   ]
  },
  {
   "cell_type": "code",
   "execution_count": 17,
   "id": "4ec42a71",
   "metadata": {},
   "outputs": [
    {
     "name": "stdout",
     "output_type": "stream",
     "text": [
      "0.0004506523887973641 m 2.7612761717156777e-05 m\n",
      "0.4506523887973641 mm 0.027612761717156778 mm\n"
     ]
    }
   ],
   "source": [
    "#slit distance\n",
    "slit_distance = compute_a(L, wavelength, peak2peak_bulb)\n",
    "slit_distance_uncertainty = compute_uncertainty(L, slit_distance, wavelength, delta_L, delta_y, delta_wavelength)\n",
    "print(slit_distance, \"m\", slit_distance_uncertainty, \"m\")\n",
    "print(slit_distance*1000, \"mm\", slit_distance_uncertainty*1000, \"mm\")"
   ]
  },
  {
   "cell_type": "code",
   "execution_count": 18,
   "id": "9275d90c",
   "metadata": {},
   "outputs": [
    {
     "name": "stdout",
     "output_type": "stream",
     "text": [
      "6.051902654867257e-05 m 0.0014944274257239932 m\n",
      "0.06051902654867257 mm 1.4944274257239931 mm\n"
     ]
    }
   ],
   "source": [
    "#slit distance\n",
    "slit_width_right = compute_a(L, wavelength, peak2valley_bulb_right)\n",
    "slit_width_right_uncertainty = compute_uncertainty(L, slit_width_right, wavelength, delta_L, delta_y, delta_wavelength)\n",
    "print(slit_width_right, \"m\", slit_width_right_uncertainty, \"m\")\n",
    "print(slit_width_right*1000, \"mm\", slit_width_right_uncertainty*1000, \"mm\")"
   ]
  },
  {
   "cell_type": "code",
   "execution_count": 13,
   "id": "73b86fa4",
   "metadata": {},
   "outputs": [
    {
     "name": "stdout",
     "output_type": "stream",
     "text": [
      "3.3771111111111115e-05 m 0.004797681830283957 m\n",
      "0.03377111111111111 mm 4.797681830283957 mm\n"
     ]
    }
   ],
   "source": [
    "#slit width\n",
    "slit_width_left = compute_a(L, wavelength, peak2valley_bulb_left)\n",
    "slit_width_left_uncertainty = compute_uncertainty(L, slit_width_left, wavelength, delta_L, delta_y, delta_wavelength)\n",
    "print(slit_width_left, \"m\", slit_width_left_uncertainty, \"m\")\n",
    "print(slit_width_left*1000, \"mm\", slit_width_left_uncertainty*1000, \"mm\")"
   ]
  },
  {
   "cell_type": "code",
   "execution_count": 14,
   "id": "a8249c3b",
   "metadata": {},
   "outputs": [],
   "source": [
    "def percent_error(experimental, theoretical):\n",
    "    return np.abs(((experimental-theoretical)/theoretical)*100)"
   ]
  },
  {
   "cell_type": "code",
   "execution_count": 20,
   "id": "3b92cc58",
   "metadata": {},
   "outputs": [
    {
     "name": "stdout",
     "output_type": "stream",
     "text": [
      "12.499999999999996\n",
      "32.22222222222222\n",
      "62.22222222222222\n"
     ]
    }
   ],
   "source": [
    "print(percent_error(0.45, 0.40))\n",
    "print(percent_error(0.061, 0.09))\n",
    "print(percent_error(0.034, 0.09))"
   ]
  },
  {
   "cell_type": "code",
   "execution_count": null,
   "id": "a8068618",
   "metadata": {},
   "outputs": [],
   "source": []
  }
 ],
 "metadata": {
  "kernelspec": {
   "display_name": "Python 3 (ipykernel)",
   "language": "python",
   "name": "python3"
  },
  "language_info": {
   "codemirror_mode": {
    "name": "ipython",
    "version": 3
   },
   "file_extension": ".py",
   "mimetype": "text/x-python",
   "name": "python",
   "nbconvert_exporter": "python",
   "pygments_lexer": "ipython3",
   "version": "3.11.4"
  }
 },
 "nbformat": 4,
 "nbformat_minor": 5
}
