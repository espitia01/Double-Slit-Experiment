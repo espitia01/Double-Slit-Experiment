{
 "cells": [
  {
   "cell_type": "code",
   "execution_count": 1,
   "id": "0b175ff2",
   "metadata": {},
   "outputs": [],
   "source": [
    "import numpy as np\n",
    "import matplotlib.pyplot as plt"
   ]
  },
  {
   "cell_type": "code",
   "execution_count": 2,
   "id": "f94bc381",
   "metadata": {},
   "outputs": [],
   "source": [
    "def compute_a(L, wavelength, y):\n",
    "    m = 1\n",
    "    return (m * wavelength*L)/y"
   ]
  },
  {
   "cell_type": "code",
   "execution_count": 6,
   "id": "54e07c20",
   "metadata": {},
   "outputs": [],
   "source": [
    "def compute_uncertainty(L, y, wavelength, delta_L, delta_y, delta_wavelength):\n",
    "    t1 = ((L*delta_wavelength)/(y))**2\n",
    "    t2 = ((wavelength*delta_L)/(y))**2\n",
    "    t3 = ((-wavelength*L*delta_y)/(y**2))**2\n",
    "    return np.sqrt(t1+t2+t3)"
   ]
  },
  {
   "cell_type": "code",
   "execution_count": 7,
   "id": "3797d5b4",
   "metadata": {},
   "outputs": [],
   "source": [
    "#peak to peak distance (laser) in meters\n",
    "peak2peak_laser = 0.00116"
   ]
  },
  {
   "cell_type": "code",
   "execution_count": 8,
   "id": "508713b8",
   "metadata": {},
   "outputs": [],
   "source": [
    "#peak to valley distance (laser) single slits in meters\n",
    "peak2valley_laser_right = 0.00336\n",
    "peak2valley_laser_left = 0.00611"
   ]
  },
  {
   "cell_type": "code",
   "execution_count": 11,
   "id": "3bc6079c",
   "metadata": {},
   "outputs": [],
   "source": [
    "L = .501\n",
    "wavelength = 670e-9\n",
    "delta_L = 0.002\n",
    "delta_y = 0.00002\n",
    "delta_wavelength = 5e-9"
   ]
  },
  {
   "cell_type": "code",
   "execution_count": 14,
   "id": "77fad4fc",
   "metadata": {
    "scrolled": true
   },
   "outputs": [
    {
     "name": "stdout",
     "output_type": "stream",
     "text": [
      "0.00028937068965517244 m 8.077282718323679e-05 m\n",
      "0.28937068965517243 mm 0.08077282718323679 mm\n"
     ]
    }
   ],
   "source": [
    "#slit distance\n",
    "slit_distance = compute_a(L, wavelength, peak2peak_laser)\n",
    "slit_distance_uncertainty = compute_uncertainty(L, slit_distance, wavelength, delta_L, delta_y, delta_wavelength)\n",
    "print(slit_distance, \"m\", slit_distance_uncertainty, \"m\")\n",
    "print(slit_distance*1000, \"mm\", slit_distance_uncertainty*1000, \"mm\")"
   ]
  },
  {
   "cell_type": "code",
   "execution_count": 18,
   "id": "7763dee7",
   "metadata": {},
   "outputs": [
    {
     "name": "stdout",
     "output_type": "stream",
     "text": [
      "9.990178571428573e-05 m 0.000673261463811259 m\n",
      "0.09990178571428572 mm 0.6732614638112591 mm\n"
     ]
    }
   ],
   "source": [
    "#slit width\n",
    "slit_width_right = compute_a(L, wavelength, peak2valley_laser_right)\n",
    "slit_width_right_uncertainty = compute_uncertainty(L, slit_width_right, wavelength, delta_L, delta_y, delta_wavelength)\n",
    "print(slit_width_right, \"m\", slit_width_right_uncertainty, \"m\")\n",
    "print(slit_width_right*1000, \"mm\", slit_width_right_uncertainty*1000, \"mm\")\n"
   ]
  },
  {
   "cell_type": "code",
   "execution_count": 19,
   "id": "e9411e1c",
   "metadata": {},
   "outputs": [
    {
     "name": "stdout",
     "output_type": "stream",
     "text": [
      "5.49378068739771e-05 m 0.0022249344247943716 m\n",
      "0.0549378068739771 mm 2.2249344247943714 mm\n"
     ]
    }
   ],
   "source": [
    "#slit width\n",
    "slit_width_left = compute_a(L, wavelength, peak2valley_laser_left)\n",
    "slit_width_left_uncertainty = compute_uncertainty(L, slit_width_left, wavelength, delta_L, delta_y, delta_wavelength)\n",
    "print(slit_width_left, \"m\", slit_width_left_uncertainty, \"m\")\n",
    "print(slit_width_left*1000, \"mm\", slit_width_left_uncertainty*1000, \"mm\")"
   ]
  },
  {
   "cell_type": "code",
   "execution_count": 20,
   "id": "4241864d",
   "metadata": {},
   "outputs": [],
   "source": [
    "def percent_error(experimental, theoretical):\n",
    "    return np.abs(((experimental-theoretical)/theoretical)*100)"
   ]
  },
  {
   "cell_type": "code",
   "execution_count": 21,
   "id": "ffff0afb",
   "metadata": {},
   "outputs": [
    {
     "name": "stdout",
     "output_type": "stream",
     "text": [
      "17.42857142857143\n"
     ]
    }
   ],
   "source": [
    "print(percent_error(0.289, 0.35))"
   ]
  },
  {
   "cell_type": "code",
   "execution_count": 22,
   "id": "f7b98f77",
   "metadata": {},
   "outputs": [
    {
     "name": "stdout",
     "output_type": "stream",
     "text": [
      "11.111111111111121\n"
     ]
    }
   ],
   "source": [
    "print(percent_error(0.10, 0.09))"
   ]
  },
  {
   "cell_type": "code",
   "execution_count": 23,
   "id": "d5a3b141",
   "metadata": {},
   "outputs": [
    {
     "name": "stdout",
     "output_type": "stream",
     "text": [
      "38.888888888888886\n"
     ]
    }
   ],
   "source": [
    "print(percent_error(0.055, 0.09))"
   ]
  },
  {
   "cell_type": "code",
   "execution_count": null,
   "id": "ebcf1dcb",
   "metadata": {},
   "outputs": [],
   "source": []
  }
 ],
 "metadata": {
  "kernelspec": {
   "display_name": "Python 3 (ipykernel)",
   "language": "python",
   "name": "python3"
  },
  "language_info": {
   "codemirror_mode": {
    "name": "ipython",
    "version": 3
   },
   "file_extension": ".py",
   "mimetype": "text/x-python",
   "name": "python",
   "nbconvert_exporter": "python",
   "pygments_lexer": "ipython3",
   "version": "3.11.4"
  }
 },
 "nbformat": 4,
 "nbformat_minor": 5
}
